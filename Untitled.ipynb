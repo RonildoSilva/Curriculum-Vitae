{
 "cells": [
  {
   "cell_type": "code",
   "execution_count": 1,
   "metadata": {},
   "outputs": [],
   "source": [
    "import pandas as pd\n",
    "import os"
   ]
  },
  {
   "cell_type": "code",
   "execution_count": 2,
   "metadata": {},
   "outputs": [],
   "source": [
    "df_certificados = pd.read_json ('datasets/certificados.json')"
   ]
  },
  {
   "cell_type": "code",
   "execution_count": 3,
   "metadata": {},
   "outputs": [
    {
     "data": {
      "text/html": [
       "<div>\n",
       "<style scoped>\n",
       "    .dataframe tbody tr th:only-of-type {\n",
       "        vertical-align: middle;\n",
       "    }\n",
       "\n",
       "    .dataframe tbody tr th {\n",
       "        vertical-align: top;\n",
       "    }\n",
       "\n",
       "    .dataframe thead th {\n",
       "        text-align: right;\n",
       "    }\n",
       "</style>\n",
       "<table border=\"1\" class=\"dataframe\">\n",
       "  <thead>\n",
       "    <tr style=\"text-align: right;\">\n",
       "      <th></th>\n",
       "      <th>ceritificado</th>\n",
       "    </tr>\n",
       "  </thead>\n",
       "  <tbody>\n",
       "    <tr>\n",
       "      <th>3</th>\n",
       "      <td>{'titulo': 'End-to-End Machine Learning with T...</td>\n",
       "    </tr>\n",
       "    <tr>\n",
       "      <th>40</th>\n",
       "      <td>{'titulo': 'Learn Angular 2 from Beginner to A...</td>\n",
       "    </tr>\n",
       "    <tr>\n",
       "      <th>31</th>\n",
       "      <td>{'titulo': 'Music Theory for Electronic Music ...</td>\n",
       "    </tr>\n",
       "    <tr>\n",
       "      <th>49</th>\n",
       "      <td>{'titulo': 'React : Entendendo como a bibliote...</td>\n",
       "    </tr>\n",
       "    <tr>\n",
       "      <th>2</th>\n",
       "      <td>{'titulo': 'How Google does Machine Learning',...</td>\n",
       "    </tr>\n",
       "  </tbody>\n",
       "</table>\n",
       "</div>"
      ],
      "text/plain": [
       "                                         ceritificado\n",
       "3   {'titulo': 'End-to-End Machine Learning with T...\n",
       "40  {'titulo': 'Learn Angular 2 from Beginner to A...\n",
       "31  {'titulo': 'Music Theory for Electronic Music ...\n",
       "49  {'titulo': 'React : Entendendo como a bibliote...\n",
       "2   {'titulo': 'How Google does Machine Learning',..."
      ]
     },
     "execution_count": 3,
     "metadata": {},
     "output_type": "execute_result"
    }
   ],
   "source": [
    "df_certificados.sample(5)"
   ]
  },
  {
   "cell_type": "code",
   "execution_count": 4,
   "metadata": {},
   "outputs": [],
   "source": [
    "#df_certificados.iloc[0]\n",
    "#df_certificados['ceritificado'].iloc[0].get('areas')[0].get('nome_area')\n",
    "area_list = list()\n",
    "workload = 0\n",
    "\n",
    "for id_certificado in range(len(df_certificados['ceritificado'])):\n",
    "    quant_areas = len(df_certificados['ceritificado'].iloc[id_certificado].get('areas'))\n",
    "    if(workload <= df_certificados['ceritificado'].iloc[id_certificado].get('duracao_horas')):\n",
    "        for id_areas in range(quant_areas):\n",
    "            #print(df_certificados['ceritificado'].iloc[id_certificado].get('areas')[id_areas].get('nome_area'))\n",
    "            area_list.append(df_certificados['ceritificado'].iloc[id_certificado].get('areas')[id_areas].get('nome_area'))"
   ]
  },
  {
   "cell_type": "code",
   "execution_count": 39,
   "metadata": {},
   "outputs": [
    {
     "data": {
      "text/plain": [
       "['Machine Learning',\n",
       " 'Logistic Regression',\n",
       " 'Artificial Neural Network',\n",
       " 'Algorithms',\n",
       " 'Machine Learning',\n",
       " 'Computer Vision',\n",
       " 'Application Programming Interfaces',\n",
       " 'Inclusive ML',\n",
       " 'Machine Learning',\n",
       " 'Google Cloud Platform',\n",
       " 'Bigquery',\n",
       " 'Tensorflow',\n",
       " 'Convolutional Neural Network',\n",
       " 'Estimator',\n",
       " 'Advanced Machine Learning',\n",
       " 'Tensorflow',\n",
       " 'Bigquery',\n",
       " 'Machine Learning',\n",
       " 'Data Cleansing',\n",
       " 'Petri Net',\n",
       " 'Process Modeling',\n",
       " 'Process Mining',\n",
       " 'Data Mining',\n",
       " 'Database',\n",
       " 'NoSQL',\n",
       " 'MongoDB',\n",
       " 'Database',\n",
       " 'NoSQL',\n",
       " 'MongoDB',\n",
       " 'Aggregation',\n",
       " 'Framework',\n",
       " 'Database',\n",
       " 'NoSQL',\n",
       " 'MongoDB',\n",
       " 'Data Modeling',\n",
       " 'Android',\n",
       " 'Mobile',\n",
       " 'Java',\n",
       " 'Angular JS',\n",
       " 'Javascript',\n",
       " 'Web',\n",
       " 'Angular JS',\n",
       " 'Javascript',\n",
       " 'Web',\n",
       " 'Javascript',\n",
       " 'Web',\n",
       " 'Machine Learning',\n",
       " 'Classification',\n",
       " 'Machine Learning',\n",
       " 'Classification',\n",
       " 'English',\n",
       " 'English',\n",
       " 'English',\n",
       " 'English',\n",
       " 'English',\n",
       " 'English',\n",
       " 'English',\n",
       " 'English',\n",
       " 'Xamarin',\n",
       " 'Mobile',\n",
       " 'C#',\n",
       " 'XAML',\n",
       " 'Azure',\n",
       " 'Xamarin',\n",
       " 'Mobile',\n",
       " 'C#',\n",
       " 'XAML',\n",
       " 'Azure',\n",
       " 'Xamarin',\n",
       " 'Mobile',\n",
       " 'C#',\n",
       " 'XAML',\n",
       " 'C#',\n",
       " 'Javascript',\n",
       " 'HTML 5',\n",
       " 'CSS 3',\n",
       " 'Javascript',\n",
       " 'Mobile',\n",
       " 'C#',\n",
       " 'Service Now',\n",
       " 'Music Theory',\n",
       " 'Electronic Music',\n",
       " 'Music',\n",
       " 'Piano',\n",
       " 'Compose',\n",
       " 'Augmented Reality',\n",
       " 'OOP',\n",
       " 'C++',\n",
       " 'CG',\n",
       " 'C++',\n",
       " 'Game',\n",
       " '3D',\n",
       " 'Piano',\n",
       " 'Music',\n",
       " 'Piano',\n",
       " 'Music',\n",
       " 'Artificial Intelligence',\n",
       " 'Neural Networks',\n",
       " 'Java',\n",
       " 'Artificial Intelligence',\n",
       " 'Games',\n",
       " 'Java',\n",
       " 'Angular 2',\n",
       " 'Javascript',\n",
       " 'Web',\n",
       " 'Android',\n",
       " 'Mobile',\n",
       " 'Development',\n",
       " 'Java',\n",
       " 'Java',\n",
       " 'C#',\n",
       " 'Convolutional Neural Network',\n",
       " 'Machine Learning',\n",
       " 'Tensorflow',\n",
       " 'Object Detection',\n",
       " 'TensorFlow.js',\n",
       " 'Managing Security',\n",
       " 'Google Cloud Platform',\n",
       " 'Identity and Access Management',\n",
       " 'Virtual Private Cloud - VPC',\n",
       " 'Algorithms',\n",
       " 'Randomized Algorithm',\n",
       " 'Sorting Algorithm',\n",
       " 'Divide And Conquer Algorithms',\n",
       " 'Machine Learning',\n",
       " 'Deep Learning',\n",
       " 'Keras',\n",
       " 'Machine Learning',\n",
       " 'React',\n",
       " 'Javascript',\n",
       " 'Front-end',\n",
       " 'Web',\n",
       " 'React',\n",
       " 'Javascript',\n",
       " 'Front-end',\n",
       " 'Web',\n",
       " 'Google Cloud',\n",
       " 'Security',\n",
       " 'Cloud Computing']"
      ]
     },
     "execution_count": 39,
     "metadata": {},
     "output_type": "execute_result"
    }
   ],
   "source": [
    "area_list"
   ]
  },
  {
   "cell_type": "code",
   "execution_count": 5,
   "metadata": {},
   "outputs": [],
   "source": [
    "duracao_horas = 0\n",
    "for id_certificado in range(len(df_certificados['ceritificado'])):\n",
    "    duracao_horas += df_certificados['ceritificado'].iloc[id_certificado].get('duracao_horas')"
   ]
  },
  {
   "cell_type": "code",
   "execution_count": 6,
   "metadata": {},
   "outputs": [
    {
     "data": {
      "text/plain": [
       "723.5"
      ]
     },
     "execution_count": 6,
     "metadata": {},
     "output_type": "execute_result"
    }
   ],
   "source": [
    "duracao_horas"
   ]
  },
  {
   "cell_type": "code",
   "execution_count": null,
   "metadata": {},
   "outputs": [],
   "source": []
  },
  {
   "cell_type": "code",
   "execution_count": 7,
   "metadata": {},
   "outputs": [
    {
     "data": {
      "image/png": "[encoded data removed]",
      "text/plain": [
       "<Figure size 432x288 with 1 Axes>"
      ]
     },
     "metadata": {},
     "output_type": "display_data"
    }
   ],
   "source": [
    "import matplotlib.pyplot as plt\n",
    "\n",
    "labels = ['Horas de cursos', '1000']\n",
    "sizes = [duracao_horas, 1000 - duracao_horas,]\n",
    "\n",
    "p = plt.pie(sizes, labels=labels, explode=(0.07, 0),\n",
    "            autopct='%1.1f%%', startangle=130, shadow=True)\n",
    "plt.axis('equal')\n",
    "\n",
    "for i, (apple, banana) in enumerate(p):\n",
    "    if i > 0:\n",
    "        apple.set_fontsize(12)\n",
    "        banana.set_fontsize(12)\n",
    "            \n",
    "plt.show()"
   ]
  },
  {
   "cell_type": "code",
   "execution_count": null,
   "metadata": {},
   "outputs": [],
   "source": []
  },
  {
   "cell_type": "code",
   "execution_count": 8,
   "metadata": {},
   "outputs": [
    {
     "data": {
      "image/png": "[encoded data removed]",
      "text/plain": [
       "<Figure size 432x288 with 1 Axes>"
      ]
     },
     "metadata": {},
     "output_type": "display_data"
    }
   ],
   "source": [
    "my_circle = plt.Circle((0, 0), 0.4, color='white')\n",
    "\n",
    "d = plt.pie(sizes, labels=labels, autopct='%1.1f%%',\n",
    "            startangle=90, labeldistance=1.05)\n",
    "plt.axis('equal')\n",
    "plt.gca().add_artist(my_circle)\n",
    "            \n",
    "plt.show()"
   ]
  },
  {
   "cell_type": "code",
   "execution_count": null,
   "metadata": {},
   "outputs": [],
   "source": [
    " "
   ]
  },
  {
   "cell_type": "code",
   "execution_count": 9,
   "metadata": {},
   "outputs": [],
   "source": [
    "year_list = list()\n",
    "for id_certificado in range(len(df_certificados['ceritificado'])):\n",
    "    year_list.append(df_certificados['ceritificado'].iloc[id_certificado].get('ano'))"
   ]
  },
  {
   "cell_type": "code",
   "execution_count": null,
   "metadata": {},
   "outputs": [],
   "source": []
  },
  {
   "cell_type": "code",
   "execution_count": 10,
   "metadata": {},
   "outputs": [],
   "source": [
    "date_list = list()\n",
    "for id_certificado in range(len(df_certificados['ceritificado'])):\n",
    "    date_list.append(df_certificados['ceritificado'].iloc[id_certificado].get('data'))"
   ]
  },
  {
   "cell_type": "code",
   "execution_count": 11,
   "metadata": {},
   "outputs": [],
   "source": [
    "#date_list"
   ]
  },
  {
   "cell_type": "code",
   "execution_count": null,
   "metadata": {},
   "outputs": [],
   "source": []
  },
  {
   "cell_type": "code",
   "execution_count": 12,
   "metadata": {
    "scrolled": true
   },
   "outputs": [],
   "source": [
    "from collections import Counter, OrderedDict\n",
    "D = Counter(year_list)\n",
    "D = OrderedDict(sorted(D.items()))"
   ]
  },
  {
   "cell_type": "code",
   "execution_count": 13,
   "metadata": {},
   "outputs": [
    {
     "data": {
      "text/plain": [
       "OrderedDict([(2013, 2),\n",
       "             (2016, 2),\n",
       "             (2017, 22),\n",
       "             (2018, 13),\n",
       "             (2019, 1),\n",
       "             (2020, 12)])"
      ]
     },
     "execution_count": 13,
     "metadata": {},
     "output_type": "execute_result"
    }
   ],
   "source": [
    "D"
   ]
  },
  {
   "cell_type": "code",
   "execution_count": 28,
   "metadata": {},
   "outputs": [
    {
     "data": {
      "image/png": "[encoded data removed]",
      "text/plain": [
       "<Figure size 1152x360 with 1 Axes>"
      ]
     },
     "metadata": {
      "needs_background": "light"
     },
     "output_type": "display_data"
    }
   ],
   "source": [
    "import matplotlib.pyplot as plt\n",
    "\n",
    "plt.figure(figsize=(16,5))\n",
    "plt.title(\"Quantidade de cursos por ano\")\n",
    "plt.bar(range(len(D)), list(D.values()), align='center')\n",
    "plt.xticks(range(len(D)), list(D.keys()))\n",
    "plt.show()"
   ]
  },
  {
   "cell_type": "code",
   "execution_count": null,
   "metadata": {},
   "outputs": [],
   "source": []
  },
  {
   "cell_type": "code",
   "execution_count": 37,
   "metadata": {},
   "outputs": [],
   "source": [
    "import matplotlib.pyplot as plt\n",
    "from wordcloud import WordCloud, STOPWORDS\n",
    "import numpy as np\n",
    "from PIL import Image\n",
    "\n",
    "def create_linkedin_word_cloud(string):\n",
    "    cloud = WordCloud(width = 1584, height = 396, \n",
    "                background_color ='black',\n",
    "                min_font_size = 5,\n",
    "                stopwords = set(STOPWORDS),\n",
    "                random_state = 42,\n",
    "                max_words = 5,\n",
    "                colormap='Set2').generate(string)\n",
    "    cloud.to_file('linkedInWordCloud.png')\n",
    "    \n",
    "def create_word_cloud(string):\n",
    "   mask_array = np.array(Image.open('cloud.png'))\n",
    "   cloud = WordCloud(background_color = 'white', max_words = 50,\n",
    "                     mask = mask_array, stopwords = set(STOPWORDS),\n",
    "                     colormap='Dark1')    \n",
    "   cloud.generate(string)\n",
    "   cloud.to_file('wordCloud.png')\n",
    "\n",
    "#dataset = dataset.lower()\n",
    "#create_word_cloud(str.join(' ',area_list).lower())\n",
    "create_linkedin_word_cloud(str.join(' ',area_list).lower())"
   ]
  },
  {
   "cell_type": "code",
   "execution_count": 40,
   "metadata": {},
   "outputs": [
    {
     "data": {
      "text/plain": [
       "'machine learning logistic regression artificial neural network algorithms machine learning computer vision application programming interfaces inclusive ml machine learning google cloud platform bigquery tensorflow convolutional neural network estimator advanced machine learning tensorflow bigquery machine learning data cleansing petri net process modeling process mining data mining database nosql mongodb database nosql mongodb aggregation framework database nosql mongodb data modeling android mobile java angular js javascript web angular js javascript web javascript web machine learning classification machine learning classification english english english english english english english english xamarin mobile c# xaml azure xamarin mobile c# xaml azure xamarin mobile c# xaml c# javascript html 5 css 3 javascript mobile c# service now music theory electronic music music piano compose augmented reality oop c++ cg c++ game 3d piano music piano music artificial intelligence neural networks java artificial intelligence games java angular 2 javascript web android mobile development java java c# convolutional neural network machine learning tensorflow object detection tensorflow.js managing security google cloud platform identity and access management virtual private cloud - vpc algorithms randomized algorithm sorting algorithm divide and conquer algorithms machine learning deep learning keras machine learning react javascript front-end web react javascript front-end web google cloud security cloud computing'"
      ]
     },
     "execution_count": 40,
     "metadata": {},
     "output_type": "execute_result"
    }
   ],
   "source": [
    "str.join(' ',area_list).lower()"
   ]
  },
  {
   "cell_type": "code",
   "execution_count": 38,
   "metadata": {},
   "outputs": [
    {
     "data": {
      "image/png": "[encoded data removed]",
      "text/plain": [
       "<Figure size 1152x864 with 1 Axes>"
      ]
     },
     "metadata": {
      "needs_background": "light"
     },
     "output_type": "display_data"
    }
   ],
   "source": [
    "#im = np.array(Image.open('wordCloud.png'))\n",
    "im = np.array(Image.open('linkedInWordCloud.png'))\n",
    "plt.figure(figsize=(16,12))\n",
    "plt.imshow(im)\n",
    "plt.axis('off')\n",
    "plt.show()"
   ]
  },
  {
   "cell_type": "code",
   "execution_count": null,
   "metadata": {},
   "outputs": [],
   "source": []
  },
  {
   "cell_type": "code",
   "execution_count": null,
   "metadata": {},
   "outputs": [],
   "source": []
  }
 ],
 "metadata": {
  "kernelspec": {
   "display_name": "Python 3",
   "language": "python",
   "name": "python3"
  },
  "language_info": {
   "codemirror_mode": {
    "name": "ipython",
    "version": 3
   },
   "file_extension": ".py",
   "mimetype": "text/x-python",
   "name": "python",
   "nbconvert_exporter": "python",
   "pygments_lexer": "ipython3",
   "version": "3.8.3"
  }
 },
 "nbformat": 4,
 "nbformat_minor": 2
}
